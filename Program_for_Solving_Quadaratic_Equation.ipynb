{
  "nbformat": 4,
  "nbformat_minor": 0,
  "metadata": {
    "colab": {
      "name": "Program for Solving Quadaratic Equation",
      "provenance": []
    },
    "kernelspec": {
      "name": "python3",
      "display_name": "Python 3"
    }
  },
  "cells": [
    {
      "cell_type": "code",
      "metadata": {
        "id": "Ps4gxUSEK13c",
        "colab_type": "code",
        "colab": {}
      },
      "source": [
        "import cmath # importing cmath librarytosolve quadratic equation\n",
        "import numpy as np\n",
        "import warnings\n",
        "warnings.filterwarnings('ignore')\n",
        "\n",
        "a = int(input(\"enter the value of a: \"))\n",
        "b = int(input(\"enter the value of b: \"))\n",
        "c = int(input(\"enter the value of c: \"))\n",
        "\n",
        "#discriminant\n",
        "d = (b**2) -(4*a*c)\n",
        "\n",
        "equation_1 = (-b-cmath.sqrt(d))/(2*a)\n",
        "equation_2 = (-b+cmath.sqrt(d))/(2*a)\n",
        "\n",
        "print('The solution for quadratic equations is {0} and {1}'.format(equation_1,equation_2)) "
      ],
      "execution_count": null,
      "outputs": []
    },
    {
      "cell_type": "code",
      "metadata": {
        "id": "VIRbIGDhLIWA",
        "colab_type": "code",
        "colab": {}
      },
      "source": [
        ""
      ],
      "execution_count": null,
      "outputs": []
    }
  ]
}