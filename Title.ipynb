{
  "nbformat": 4,
  "nbformat_minor": 0,
  "metadata": {
    "colab": {
      "name": "Untitled2.ipynb",
      "provenance": []
    },
    "kernelspec": {
      "name": "python3",
      "display_name": "Python 3"
    }
  },
  "cells": [
    {
      "cell_type": "code",
      "metadata": {
        "id": "AWDcYV2HBqYc",
        "colab_type": "code",
        "colab": {
          "base_uri": "https://localhost:8080/",
          "height": 51
        },
        "outputId": "71cad179-9628-4b4a-e321-afa29a9a62e7"
      },
      "source": [
        "Write a python program to check whether a webpage contains a title or not.\n",
        "\n",
        "# importing libraries\n",
        "\n",
        "from urllib.request import urlopen\n",
        "from bs4 import BeautifulSoup\n",
        "\n",
        "url = input(\"enter the url\")\n",
        "page = urlopen(url)\n",
        "bs= BeautifulSoup(page.read(), \"lxml\")\n",
        "page_title= bs.title.string\n",
        "if  page_title:\n",
        "  print(\"page title is: \", page_title)\n",
        "else:\n",
        "  print(\"there is no page title\")"
      ],
      "execution_count": 17,
      "outputs": [
        {
          "output_type": "stream",
          "text": [
            "enter the urlhttps://www.w3schools.com/\n",
            "page title is:  W3Schools Online Web Tutorials\n"
          ],
          "name": "stdout"
        }
      ]
    },
    {
      "cell_type": "code",
      "metadata": {
        "id": "81GBMk5gDHUV",
        "colab_type": "code",
        "colab": {}
      },
      "source": [
        ""
      ],
      "execution_count": null,
      "outputs": []
    }
  ]
}