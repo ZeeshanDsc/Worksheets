{
  "nbformat": 4,
  "nbformat_minor": 0,
  "metadata": {
    "colab": {
      "name": "Write a python program to find the sum of first ‘n’ natural numbers ",
      "provenance": []
    },
    "kernelspec": {
      "name": "python3",
      "display_name": "Python 3"
    }
  },
  "cells": [
    {
      "cell_type": "code",
      "metadata": {
        "id": "wu0umwVsOBxO",
        "colab_type": "code",
        "colab": {}
      },
      "source": [
        "n = int(input('Enter number of natural number to find sum: '))\n",
        "\n",
        "if n>0:\n",
        "    sum = n*(n+1)/2\n",
        "    print(\"Sum of first {} number is {}\".format(n,int(sum)))\n",
        "else:\n",
        "    print(\"enter positive number\")"
      ],
      "execution_count": null,
      "outputs": []
    }
  ]
}